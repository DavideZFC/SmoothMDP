{
 "cells": [
  {
   "cell_type": "code",
   "execution_count": 5,
   "metadata": {},
   "outputs": [],
   "source": [
    "from classes.environments.PendulumSimple import PendulumSimple\n",
    "from classes.agents.FD_LSVI import FD_LSVI\n",
    "from functions.misc.test_algorithm_after_learning import test_algorithm"
   ]
  },
  {
   "cell_type": "code",
   "execution_count": 2,
   "metadata": {},
   "outputs": [
    {
     "name": "stdout",
     "output_type": "stream",
     "text": [
      "[[ 0.4275223   0.10837772 -0.92230561]\n",
      " [-0.92325245 -0.82683708  0.57424242]\n",
      " [ 0.49656464 -0.33970788 -0.02415646]\n",
      " [ 0.41208245 -0.63473114 -0.10671581]\n",
      " [-0.81061792 -0.59176689  0.05599515]\n",
      " [ 0.18912616  0.6022967   0.62750762]\n",
      " [-0.83924787 -0.46507372 -0.3753205 ]\n",
      " [-0.21406806  0.55008701  0.04655448]\n",
      " [-0.65418359 -0.8562784  -0.22807076]\n",
      " [ 0.86772811 -0.45724313 -0.78520433]]\n",
      "original action [-1.84461121  1.14848484 -0.04831291 -0.21343162  0.1119903   1.25501524\n",
      " -0.75064099  0.09310896 -0.45614152 -1.57040867]\n",
      "[ 1.34310091 -2.90048311  1.56000384  1.29459519 -2.54663131  0.59415735\n",
      " -2.63657495 -0.67251466 -2.05517837  2.72604826] [ 0.86702176 -6.61469667 -2.71766305 -5.07784914 -4.73413515  4.81837361\n",
      " -3.72058973  4.40069606 -6.85022722 -3.65794507]\n",
      "(10,)\n",
      "(10,)\n",
      "[[ 1.40914951  1.32097198]\n",
      " [ 3.05162674 -6.62150911]\n",
      " [ 1.46125615 -1.97495366]\n",
      " [ 1.07518068 -4.38829013]\n",
      " [-2.80351602 -5.13769417]\n",
      " [ 0.86548154  5.42648393]\n",
      " [-2.8463776  -4.19605308]\n",
      " [-0.47514235  3.94744611]\n",
      " [-2.4342969  -7.58237061]\n",
      " [ 2.54651125 -3.59074034]]\n"
     ]
    },
    {
     "data": {
      "text/plain": [
       "(array([[ 0.44854622,  0.1651215 ],\n",
       "        [ 0.97136296, -0.82768864],\n",
       "        [ 0.46513228, -0.24686921],\n",
       "        [ 0.34224064, -0.54853627],\n",
       "        [-0.89238686, -0.64221177],\n",
       "        [ 0.27549133,  0.67831049],\n",
       "        [-0.90603013, -0.52450663],\n",
       "        [-0.15124251,  0.49343076],\n",
       "        [-0.77486077, -0.94779633],\n",
       "        [ 0.81057971, -0.44884254]]),\n",
       " array([ -1.88249531, -12.78954249,  -3.17218355,  -4.25447745,\n",
       "         -8.72654713,  -2.67627044,  -8.33636971,  -2.38889722,\n",
       "         -8.91652749,  -8.77186154]))"
      ]
     },
     "execution_count": 2,
     "metadata": {},
     "output_type": "execute_result"
    }
   ],
   "source": [
    "import numpy as np\n",
    "env = PendulumSimple()\n",
    "state_action = np.random.uniform(low=-1,high=1, size=(10,3))\n",
    "print(state_action)\n",
    "env.query_generator(state_action)"
   ]
  },
  {
   "cell_type": "code",
   "execution_count": 1,
   "metadata": {},
   "outputs": [
    {
     "name": "stdout",
     "output_type": "stream",
     "text": [
      "(array([-0.67713841,  0.02756482]), {})\n",
      "[-0.67713841  0.02756482]\n",
      "original action 1.0\n",
      "-2.1272930519248825 0.2205185338256559\n",
      "()\n",
      "()\n",
      "[[-2.14060878 -0.26631457]]\n",
      "(array([-0.68137694, -0.03328932]), -4.531238571143943, False, False, {})\n"
     ]
    }
   ],
   "source": [
    "from classes.environments.PendulumSimple import PendulumSimple\n",
    "import numpy as np\n",
    "env = PendulumSimple()\n",
    "print(env.reset())\n",
    "print(env.step([0.5]))"
   ]
  },
  {
   "cell_type": "code",
   "execution_count": 3,
   "metadata": {},
   "outputs": [
    {
     "name": "stdout",
     "output_type": "stream",
     "text": [
      "[[-0.67713841  0.02756482  0.5       ]]\n",
      "original action [1.]\n",
      "[-2.12729305] [0.22051856]\n",
      "(1,)\n",
      "(1,)\n",
      "[[-2.14060878 -0.26631454]]\n"
     ]
    },
    {
     "data": {
      "text/plain": [
       "(array([[-0.68137694, -0.03328932]]), array([-0.45312386]))"
      ]
     },
     "execution_count": 3,
     "metadata": {},
     "output_type": "execute_result"
    }
   ],
   "source": [
    "state_action = np.array([[ -0.67713841,  0.02756482, 0.5]])\n",
    "print(state_action)\n",
    "env.query_generator(state_action)"
   ]
  },
  {
   "cell_type": "code",
   "execution_count": 6,
   "metadata": {},
   "outputs": [
    {
     "name": "stdout",
     "output_type": "stream",
     "text": [
      "optimal design found: before squeezing 21.75177667567862, after squeezing 31.020218121595224\n",
      "(296, 3)\n",
      "(296, 20)\n",
      "(296,)\n",
      "(296, 2)\n",
      "(5,)\n",
      "step 19 done\n",
      "step 18 done\n",
      "step 17 done\n",
      "step 16 done\n",
      "step 15 done\n",
      "step 14 done\n",
      "step 13 done\n",
      "step 12 done\n",
      "step 11 done\n",
      "step 10 done\n",
      "step 9 done\n",
      "step 8 done\n",
      "step 7 done\n",
      "step 6 done\n",
      "step 5 done\n",
      "step 4 done\n",
      "step 3 done\n",
      "step 2 done\n",
      "step 1 done\n",
      "step 0 done\n"
     ]
    }
   ],
   "source": [
    "env = PendulumSimple()\n",
    "agent = FD_LSVI(env)\n",
    "state_disc = 40\n",
    "action_disc = 5\n",
    "agent.get_datasets(disc_numbers=[state_disc, state_disc, action_disc])\n",
    "agent.compute_q_values()"
   ]
  },
  {
   "cell_type": "code",
   "execution_count": 7,
   "metadata": {},
   "outputs": [
    {
     "data": {
      "text/plain": [
       "array([ 9.48791306e-03, -3.06048765e-03, -2.96137430e-01, -4.32042314e-03,\n",
       "       -6.81454078e-03,  1.25321724e-02,  7.18952145e-03, -5.63145431e-03,\n",
       "        5.40551356e-03, -1.33621286e-03,  1.05101530e-02, -2.95223948e-01,\n",
       "        2.92146203e-03, -3.30402958e-04, -8.31735974e-03, -9.46615653e-04,\n",
       "        2.65255627e+01, -6.44603907e-03, -7.06493668e-03,  4.66283530e-03])"
      ]
     },
     "execution_count": 7,
     "metadata": {},
     "output_type": "execute_result"
    }
   ],
   "source": [
    "agent.w_vectors[-7]"
   ]
  },
  {
   "cell_type": "code",
   "execution_count": 8,
   "metadata": {},
   "outputs": [
    {
     "name": "stdout",
     "output_type": "stream",
     "text": [
      "current state: [-0.06956029 -0.667235  ], current action: [0.], current reward: 0.9507042014385455\n",
      "current state: [-0.08276746 -0.10372891], current action: [-0.5], current reward: 0.9911629049203963\n",
      "current state: [-0.08987461 -0.05581938], current action: [-0.5], current reward: 0.9907163005092164\n",
      "current state: [-0.09647603 -0.05184737], current action: [-0.5], current reward: 0.9895449293762895\n",
      "current state: [-0.10325123 -0.05321241], current action: [-0.5], current reward: 0.9881950383379778\n",
      "current state: [-0.11028984 -0.05528107], current action: [-0.5], current reward: 0.9866891624459231\n",
      "current state: [-0.1176106  -0.05749712], current action: [-0.5], current reward: 0.9850175209153421\n",
      "current state: [-0.12522376 -0.05979353], current action: [-0.5], current reward: 0.9831659586522937\n",
      "current state: [-0.13313842 -0.06216164], current action: [-0.5], current reward: 0.9811188921659642\n",
      "current state: [-0.14136346 -0.06459931], current action: [-0.5], current reward: 0.9788596436359022\n",
      "current state: [-0.1499075 -0.0671047], current action: [-0.5], current reward: 0.9763704675054666\n",
      "current state: [-0.15877885 -0.06967542], current action: [-0.5], current reward: 0.9736325490929996\n",
      "current state: [-0.16798542 -0.07230833], current action: [-0.5], current reward: 0.970626011805724\n",
      "current state: [-0.17753465 -0.07499951], current action: [-0.5], current reward: 0.9673299399069397\n",
      "current state: [-0.18743335 -0.07774413], current action: [-0.5], current reward: 0.9637224203334599\n",
      "current state: [-0.19768757 -0.0805364 ], current action: [-0.5], current reward: 0.9597806067917919\n",
      "current state: [-0.2083025  -0.08336947], current action: [-0.5], current reward: 0.9554808094222843\n",
      "current state: [-0.21928233 -0.08623536], current action: [-0.5], current reward: 0.950798613333147\n",
      "current state: [-0.23063006 -0.0891249 ], current action: [-0.5], current reward: 0.9457090291963907\n",
      "current state: [-0.24234739 -0.09202767], current action: [-0.5], current reward: 0.9401866788260507\n"
     ]
    }
   ],
   "source": [
    "state = env.reset()[0]\n",
    "done = False\n",
    "h = 0\n",
    "episodic_return = 0\n",
    "\n",
    "while not done:\n",
    "    # action = env.action_space.sample()\n",
    "    action = agent.choose_action(state, h)\n",
    "\n",
    "    next_state, reward, terminated, truncated, _ = env.step(action)\n",
    "    print('current state: {}, current action: {}, current reward: {}'.format(state, action, reward))\n",
    "    inutile = input()\n",
    "    episodic_return += reward\n",
    "\n",
    "    done = terminated or truncated\n",
    "    state = next_state\n",
    "    h += 1"
   ]
  },
  {
   "cell_type": "code",
   "execution_count": 8,
   "metadata": {},
   "outputs": [
    {
     "data": {
      "text/plain": [
       "-2.168026350790523"
      ]
     },
     "execution_count": 8,
     "metadata": {},
     "output_type": "execute_result"
    }
   ],
   "source": [
    "import numpy as np\n",
    "x = 1355\n",
    "((x + np.pi) % (2 * np.pi)) - np.pi"
   ]
  }
 ],
 "metadata": {
  "kernelspec": {
   "display_name": "Python 3",
   "language": "python",
   "name": "python3"
  },
  "language_info": {
   "codemirror_mode": {
    "name": "ipython",
    "version": 3
   },
   "file_extension": ".py",
   "mimetype": "text/x-python",
   "name": "python",
   "nbconvert_exporter": "python",
   "pygments_lexer": "ipython3",
   "version": "3.11.3"
  }
 },
 "nbformat": 4,
 "nbformat_minor": 2
}
